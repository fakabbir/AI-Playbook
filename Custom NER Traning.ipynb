{
  "nbformat": 4,
  "nbformat_minor": 0,
  "metadata": {
    "colab": {
      "name": "Custom NER Traning.ipynb",
      "provenance": [],
      "authorship_tag": "ABX9TyNcDwKuwsKOHbS/NqFgLmZN",
      "include_colab_link": true
    },
    "kernelspec": {
      "name": "python3",
      "display_name": "Python 3"
    },
    "language_info": {
      "name": "python"
    }
  },
  "cells": [
    {
      "cell_type": "markdown",
      "metadata": {
        "id": "view-in-github",
        "colab_type": "text"
      },
      "source": [
        "<a href=\"https://colab.research.google.com/github/fakabbir/AI-Playbook/blob/master/Custom%20NER%20Traning.ipynb\" target=\"_parent\"><img src=\"https://colab.research.google.com/assets/colab-badge.svg\" alt=\"Open In Colab\"/></a>"
      ]
    },
    {
      "cell_type": "code",
      "execution_count": 4,
      "metadata": {
        "colab": {
          "base_uri": "https://localhost:8080/"
        },
        "id": "5hy-ytfLd1FT",
        "outputId": "76aee213-5e90-4744-d377-31f3a48e5f1d"
      },
      "outputs": [
        {
          "output_type": "stream",
          "name": "stdout",
          "text": [
            "Requirement already satisfied: spacy in /usr/local/lib/python3.7/dist-packages (2.2.4)\n",
            "Collecting spacy\n",
            "  Downloading spacy-3.3.0-cp37-cp37m-manylinux_2_17_x86_64.manylinux2014_x86_64.whl (6.2 MB)\n",
            "\u001b[K     |████████████████████████████████| 6.2 MB 7.7 MB/s \n",
            "\u001b[?25hCollecting typing-extensions<4.0.0.0,>=3.7.4\n",
            "  Downloading typing_extensions-3.10.0.2-py3-none-any.whl (26 kB)\n",
            "Requirement already satisfied: preshed<3.1.0,>=3.0.2 in /usr/local/lib/python3.7/dist-packages (from spacy) (3.0.6)\n",
            "Requirement already satisfied: tqdm<5.0.0,>=4.38.0 in /usr/local/lib/python3.7/dist-packages (from spacy) (4.64.0)\n",
            "Requirement already satisfied: murmurhash<1.1.0,>=0.28.0 in /usr/local/lib/python3.7/dist-packages (from spacy) (1.0.7)\n",
            "Requirement already satisfied: jinja2 in /usr/local/lib/python3.7/dist-packages (from spacy) (2.11.3)\n",
            "Collecting typer<0.5.0,>=0.3.0\n",
            "  Downloading typer-0.4.1-py3-none-any.whl (27 kB)\n",
            "Requirement already satisfied: requests<3.0.0,>=2.13.0 in /usr/local/lib/python3.7/dist-packages (from spacy) (2.23.0)\n",
            "Requirement already satisfied: wasabi<1.1.0,>=0.9.1 in /usr/local/lib/python3.7/dist-packages (from spacy) (0.9.1)\n",
            "Collecting spacy-loggers<2.0.0,>=1.0.0\n",
            "  Downloading spacy_loggers-1.0.2-py3-none-any.whl (7.2 kB)\n",
            "Collecting srsly<3.0.0,>=2.4.3\n",
            "  Downloading srsly-2.4.3-cp37-cp37m-manylinux_2_17_x86_64.manylinux2014_x86_64.whl (457 kB)\n",
            "\u001b[K     |████████████████████████████████| 457 kB 62.9 MB/s \n",
            "\u001b[?25hCollecting pathy>=0.3.5\n",
            "  Downloading pathy-0.6.1-py3-none-any.whl (42 kB)\n",
            "\u001b[K     |████████████████████████████████| 42 kB 1.6 MB/s \n",
            "\u001b[?25hCollecting thinc<8.1.0,>=8.0.14\n",
            "  Downloading thinc-8.0.15-cp37-cp37m-manylinux_2_17_x86_64.manylinux2014_x86_64.whl (653 kB)\n",
            "\u001b[K     |████████████████████████████████| 653 kB 50.9 MB/s \n",
            "\u001b[?25hRequirement already satisfied: setuptools in /usr/local/lib/python3.7/dist-packages (from spacy) (57.4.0)\n",
            "Collecting langcodes<4.0.0,>=3.2.0\n",
            "  Downloading langcodes-3.3.0-py3-none-any.whl (181 kB)\n",
            "\u001b[K     |████████████████████████████████| 181 kB 56.1 MB/s \n",
            "\u001b[?25hCollecting pydantic!=1.8,!=1.8.1,<1.9.0,>=1.7.4\n",
            "  Downloading pydantic-1.8.2-cp37-cp37m-manylinux2014_x86_64.whl (10.1 MB)\n",
            "\u001b[K     |████████████████████████████████| 10.1 MB 30.6 MB/s \n",
            "\u001b[?25hCollecting catalogue<2.1.0,>=2.0.6\n",
            "  Downloading catalogue-2.0.7-py3-none-any.whl (17 kB)\n",
            "Collecting spacy-legacy<3.1.0,>=3.0.9\n",
            "  Downloading spacy_legacy-3.0.9-py2.py3-none-any.whl (20 kB)\n",
            "Requirement already satisfied: packaging>=20.0 in /usr/local/lib/python3.7/dist-packages (from spacy) (21.3)\n",
            "Requirement already satisfied: blis<0.8.0,>=0.4.0 in /usr/local/lib/python3.7/dist-packages (from spacy) (0.4.1)\n",
            "Requirement already satisfied: cymem<2.1.0,>=2.0.2 in /usr/local/lib/python3.7/dist-packages (from spacy) (2.0.6)\n",
            "Requirement already satisfied: numpy>=1.15.0 in /usr/local/lib/python3.7/dist-packages (from spacy) (1.21.6)\n",
            "Requirement already satisfied: zipp>=0.5 in /usr/local/lib/python3.7/dist-packages (from catalogue<2.1.0,>=2.0.6->spacy) (3.8.0)\n",
            "Requirement already satisfied: pyparsing!=3.0.5,>=2.0.2 in /usr/local/lib/python3.7/dist-packages (from packaging>=20.0->spacy) (3.0.8)\n",
            "Collecting smart-open<6.0.0,>=5.0.0\n",
            "  Downloading smart_open-5.2.1-py3-none-any.whl (58 kB)\n",
            "\u001b[K     |████████████████████████████████| 58 kB 7.2 MB/s \n",
            "\u001b[?25hRequirement already satisfied: urllib3!=1.25.0,!=1.25.1,<1.26,>=1.21.1 in /usr/local/lib/python3.7/dist-packages (from requests<3.0.0,>=2.13.0->spacy) (1.24.3)\n",
            "Requirement already satisfied: idna<3,>=2.5 in /usr/local/lib/python3.7/dist-packages (from requests<3.0.0,>=2.13.0->spacy) (2.10)\n",
            "Requirement already satisfied: certifi>=2017.4.17 in /usr/local/lib/python3.7/dist-packages (from requests<3.0.0,>=2.13.0->spacy) (2021.10.8)\n",
            "Requirement already satisfied: chardet<4,>=3.0.2 in /usr/local/lib/python3.7/dist-packages (from requests<3.0.0,>=2.13.0->spacy) (3.0.4)\n",
            "Requirement already satisfied: click<9.0.0,>=7.1.1 in /usr/local/lib/python3.7/dist-packages (from typer<0.5.0,>=0.3.0->spacy) (7.1.2)\n",
            "Requirement already satisfied: MarkupSafe>=0.23 in /usr/local/lib/python3.7/dist-packages (from jinja2->spacy) (2.0.1)\n",
            "Installing collected packages: typing-extensions, catalogue, typer, srsly, smart-open, pydantic, thinc, spacy-loggers, spacy-legacy, pathy, langcodes, spacy\n",
            "  Attempting uninstall: typing-extensions\n",
            "    Found existing installation: typing-extensions 4.2.0\n",
            "    Uninstalling typing-extensions-4.2.0:\n",
            "      Successfully uninstalled typing-extensions-4.2.0\n",
            "  Attempting uninstall: catalogue\n",
            "    Found existing installation: catalogue 1.0.0\n",
            "    Uninstalling catalogue-1.0.0:\n",
            "      Successfully uninstalled catalogue-1.0.0\n",
            "  Attempting uninstall: srsly\n",
            "    Found existing installation: srsly 1.0.5\n",
            "    Uninstalling srsly-1.0.5:\n",
            "      Successfully uninstalled srsly-1.0.5\n",
            "  Attempting uninstall: smart-open\n",
            "    Found existing installation: smart-open 6.0.0\n",
            "    Uninstalling smart-open-6.0.0:\n",
            "      Successfully uninstalled smart-open-6.0.0\n",
            "  Attempting uninstall: thinc\n",
            "    Found existing installation: thinc 7.4.0\n",
            "    Uninstalling thinc-7.4.0:\n",
            "      Successfully uninstalled thinc-7.4.0\n",
            "  Attempting uninstall: spacy\n",
            "    Found existing installation: spacy 2.2.4\n",
            "    Uninstalling spacy-2.2.4:\n",
            "      Successfully uninstalled spacy-2.2.4\n",
            "\u001b[31mERROR: pip's dependency resolver does not currently take into account all the packages that are installed. This behaviour is the source of the following dependency conflicts.\n",
            "tensorflow 2.8.0 requires tf-estimator-nightly==2.8.0.dev2021122109, which is not installed.\u001b[0m\n",
            "Successfully installed catalogue-2.0.7 langcodes-3.3.0 pathy-0.6.1 pydantic-1.8.2 smart-open-5.2.1 spacy-3.3.0 spacy-legacy-3.0.9 spacy-loggers-1.0.2 srsly-2.4.3 thinc-8.0.15 typer-0.4.1 typing-extensions-3.10.0.2\n",
            "Collecting en-core-web-trf==3.3.0\n",
            "  Downloading https://github.com/explosion/spacy-models/releases/download/en_core_web_trf-3.3.0/en_core_web_trf-3.3.0-py3-none-any.whl (460.3 MB)\n",
            "\u001b[K     |████████████████████████████████| 460.3 MB 25 kB/s \n",
            "\u001b[?25hCollecting spacy-transformers<1.2.0,>=1.1.2\n",
            "  Downloading spacy_transformers-1.1.5-py2.py3-none-any.whl (51 kB)\n",
            "\u001b[K     |████████████████████████████████| 51 kB 143 kB/s \n",
            "\u001b[?25hRequirement already satisfied: spacy<3.4.0,>=3.3.0.dev0 in /usr/local/lib/python3.7/dist-packages (from en-core-web-trf==3.3.0) (3.3.0)\n",
            "Requirement already satisfied: pydantic!=1.8,!=1.8.1,<1.9.0,>=1.7.4 in /usr/local/lib/python3.7/dist-packages (from spacy<3.4.0,>=3.3.0.dev0->en-core-web-trf==3.3.0) (1.8.2)\n",
            "Requirement already satisfied: typer<0.5.0,>=0.3.0 in /usr/local/lib/python3.7/dist-packages (from spacy<3.4.0,>=3.3.0.dev0->en-core-web-trf==3.3.0) (0.4.1)\n",
            "Requirement already satisfied: numpy>=1.15.0 in /usr/local/lib/python3.7/dist-packages (from spacy<3.4.0,>=3.3.0.dev0->en-core-web-trf==3.3.0) (1.21.6)\n",
            "Requirement already satisfied: jinja2 in /usr/local/lib/python3.7/dist-packages (from spacy<3.4.0,>=3.3.0.dev0->en-core-web-trf==3.3.0) (2.11.3)\n",
            "Requirement already satisfied: catalogue<2.1.0,>=2.0.6 in /usr/local/lib/python3.7/dist-packages (from spacy<3.4.0,>=3.3.0.dev0->en-core-web-trf==3.3.0) (2.0.7)\n",
            "Requirement already satisfied: spacy-loggers<2.0.0,>=1.0.0 in /usr/local/lib/python3.7/dist-packages (from spacy<3.4.0,>=3.3.0.dev0->en-core-web-trf==3.3.0) (1.0.2)\n",
            "Requirement already satisfied: packaging>=20.0 in /usr/local/lib/python3.7/dist-packages (from spacy<3.4.0,>=3.3.0.dev0->en-core-web-trf==3.3.0) (21.3)\n",
            "Requirement already satisfied: requests<3.0.0,>=2.13.0 in /usr/local/lib/python3.7/dist-packages (from spacy<3.4.0,>=3.3.0.dev0->en-core-web-trf==3.3.0) (2.23.0)\n",
            "Requirement already satisfied: cymem<2.1.0,>=2.0.2 in /usr/local/lib/python3.7/dist-packages (from spacy<3.4.0,>=3.3.0.dev0->en-core-web-trf==3.3.0) (2.0.6)\n",
            "Requirement already satisfied: tqdm<5.0.0,>=4.38.0 in /usr/local/lib/python3.7/dist-packages (from spacy<3.4.0,>=3.3.0.dev0->en-core-web-trf==3.3.0) (4.64.0)\n",
            "Requirement already satisfied: setuptools in /usr/local/lib/python3.7/dist-packages (from spacy<3.4.0,>=3.3.0.dev0->en-core-web-trf==3.3.0) (57.4.0)\n",
            "Requirement already satisfied: pathy>=0.3.5 in /usr/local/lib/python3.7/dist-packages (from spacy<3.4.0,>=3.3.0.dev0->en-core-web-trf==3.3.0) (0.6.1)\n",
            "Requirement already satisfied: typing-extensions<4.0.0.0,>=3.7.4 in /usr/local/lib/python3.7/dist-packages (from spacy<3.4.0,>=3.3.0.dev0->en-core-web-trf==3.3.0) (3.10.0.2)\n",
            "Requirement already satisfied: murmurhash<1.1.0,>=0.28.0 in /usr/local/lib/python3.7/dist-packages (from spacy<3.4.0,>=3.3.0.dev0->en-core-web-trf==3.3.0) (1.0.7)\n",
            "Requirement already satisfied: langcodes<4.0.0,>=3.2.0 in /usr/local/lib/python3.7/dist-packages (from spacy<3.4.0,>=3.3.0.dev0->en-core-web-trf==3.3.0) (3.3.0)\n",
            "Requirement already satisfied: blis<0.8.0,>=0.4.0 in /usr/local/lib/python3.7/dist-packages (from spacy<3.4.0,>=3.3.0.dev0->en-core-web-trf==3.3.0) (0.4.1)\n",
            "Requirement already satisfied: preshed<3.1.0,>=3.0.2 in /usr/local/lib/python3.7/dist-packages (from spacy<3.4.0,>=3.3.0.dev0->en-core-web-trf==3.3.0) (3.0.6)\n",
            "Requirement already satisfied: wasabi<1.1.0,>=0.9.1 in /usr/local/lib/python3.7/dist-packages (from spacy<3.4.0,>=3.3.0.dev0->en-core-web-trf==3.3.0) (0.9.1)\n",
            "Requirement already satisfied: thinc<8.1.0,>=8.0.14 in /usr/local/lib/python3.7/dist-packages (from spacy<3.4.0,>=3.3.0.dev0->en-core-web-trf==3.3.0) (8.0.15)\n",
            "Requirement already satisfied: spacy-legacy<3.1.0,>=3.0.9 in /usr/local/lib/python3.7/dist-packages (from spacy<3.4.0,>=3.3.0.dev0->en-core-web-trf==3.3.0) (3.0.9)\n",
            "Requirement already satisfied: srsly<3.0.0,>=2.4.3 in /usr/local/lib/python3.7/dist-packages (from spacy<3.4.0,>=3.3.0.dev0->en-core-web-trf==3.3.0) (2.4.3)\n",
            "Requirement already satisfied: zipp>=0.5 in /usr/local/lib/python3.7/dist-packages (from catalogue<2.1.0,>=2.0.6->spacy<3.4.0,>=3.3.0.dev0->en-core-web-trf==3.3.0) (3.8.0)\n",
            "Requirement already satisfied: pyparsing!=3.0.5,>=2.0.2 in /usr/local/lib/python3.7/dist-packages (from packaging>=20.0->spacy<3.4.0,>=3.3.0.dev0->en-core-web-trf==3.3.0) (3.0.8)\n",
            "Requirement already satisfied: smart-open<6.0.0,>=5.0.0 in /usr/local/lib/python3.7/dist-packages (from pathy>=0.3.5->spacy<3.4.0,>=3.3.0.dev0->en-core-web-trf==3.3.0) (5.2.1)\n",
            "Requirement already satisfied: chardet<4,>=3.0.2 in /usr/local/lib/python3.7/dist-packages (from requests<3.0.0,>=2.13.0->spacy<3.4.0,>=3.3.0.dev0->en-core-web-trf==3.3.0) (3.0.4)\n",
            "Requirement already satisfied: certifi>=2017.4.17 in /usr/local/lib/python3.7/dist-packages (from requests<3.0.0,>=2.13.0->spacy<3.4.0,>=3.3.0.dev0->en-core-web-trf==3.3.0) (2021.10.8)\n",
            "Requirement already satisfied: urllib3!=1.25.0,!=1.25.1,<1.26,>=1.21.1 in /usr/local/lib/python3.7/dist-packages (from requests<3.0.0,>=2.13.0->spacy<3.4.0,>=3.3.0.dev0->en-core-web-trf==3.3.0) (1.24.3)\n",
            "Requirement already satisfied: idna<3,>=2.5 in /usr/local/lib/python3.7/dist-packages (from requests<3.0.0,>=2.13.0->spacy<3.4.0,>=3.3.0.dev0->en-core-web-trf==3.3.0) (2.10)\n",
            "Collecting spacy-alignments<1.0.0,>=0.7.2\n",
            "  Downloading spacy_alignments-0.8.5-cp37-cp37m-manylinux_2_17_x86_64.manylinux2014_x86_64.whl (1.1 MB)\n",
            "\u001b[K     |████████████████████████████████| 1.1 MB 17.1 MB/s \n",
            "\u001b[?25hRequirement already satisfied: torch>=1.6.0 in /usr/local/lib/python3.7/dist-packages (from spacy-transformers<1.2.0,>=1.1.2->en-core-web-trf==3.3.0) (1.11.0+cu113)\n",
            "Collecting transformers<4.18.0,>=3.4.0\n",
            "  Downloading transformers-4.17.0-py3-none-any.whl (3.8 MB)\n",
            "\u001b[K     |████████████████████████████████| 3.8 MB 46.7 MB/s \n",
            "\u001b[?25hRequirement already satisfied: regex!=2019.12.17 in /usr/local/lib/python3.7/dist-packages (from transformers<4.18.0,>=3.4.0->spacy-transformers<1.2.0,>=1.1.2->en-core-web-trf==3.3.0) (2019.12.20)\n",
            "Collecting pyyaml>=5.1\n",
            "  Downloading PyYAML-6.0-cp37-cp37m-manylinux_2_5_x86_64.manylinux1_x86_64.manylinux_2_12_x86_64.manylinux2010_x86_64.whl (596 kB)\n",
            "\u001b[K     |████████████████████████████████| 596 kB 73.6 MB/s \n",
            "\u001b[?25hCollecting huggingface-hub<1.0,>=0.1.0\n",
            "  Downloading huggingface_hub-0.5.1-py3-none-any.whl (77 kB)\n",
            "\u001b[K     |████████████████████████████████| 77 kB 6.0 MB/s \n",
            "\u001b[?25hRequirement already satisfied: importlib-metadata in /usr/local/lib/python3.7/dist-packages (from transformers<4.18.0,>=3.4.0->spacy-transformers<1.2.0,>=1.1.2->en-core-web-trf==3.3.0) (4.11.3)\n",
            "Collecting sacremoses\n",
            "  Downloading sacremoses-0.0.49-py3-none-any.whl (895 kB)\n",
            "\u001b[K     |████████████████████████████████| 895 kB 57.0 MB/s \n",
            "\u001b[?25hRequirement already satisfied: filelock in /usr/local/lib/python3.7/dist-packages (from transformers<4.18.0,>=3.4.0->spacy-transformers<1.2.0,>=1.1.2->en-core-web-trf==3.3.0) (3.6.0)\n",
            "Collecting tokenizers!=0.11.3,>=0.11.1\n",
            "  Downloading tokenizers-0.12.1-cp37-cp37m-manylinux_2_12_x86_64.manylinux2010_x86_64.whl (6.6 MB)\n",
            "\u001b[K     |████████████████████████████████| 6.6 MB 19.9 MB/s \n",
            "\u001b[?25hRequirement already satisfied: click<9.0.0,>=7.1.1 in /usr/local/lib/python3.7/dist-packages (from typer<0.5.0,>=0.3.0->spacy<3.4.0,>=3.3.0.dev0->en-core-web-trf==3.3.0) (7.1.2)\n",
            "Requirement already satisfied: MarkupSafe>=0.23 in /usr/local/lib/python3.7/dist-packages (from jinja2->spacy<3.4.0,>=3.3.0.dev0->en-core-web-trf==3.3.0) (2.0.1)\n",
            "Requirement already satisfied: six in /usr/local/lib/python3.7/dist-packages (from sacremoses->transformers<4.18.0,>=3.4.0->spacy-transformers<1.2.0,>=1.1.2->en-core-web-trf==3.3.0) (1.15.0)\n",
            "Requirement already satisfied: joblib in /usr/local/lib/python3.7/dist-packages (from sacremoses->transformers<4.18.0,>=3.4.0->spacy-transformers<1.2.0,>=1.1.2->en-core-web-trf==3.3.0) (1.1.0)\n",
            "Installing collected packages: pyyaml, tokenizers, sacremoses, huggingface-hub, transformers, spacy-alignments, spacy-transformers, en-core-web-trf\n",
            "  Attempting uninstall: pyyaml\n",
            "    Found existing installation: PyYAML 3.13\n",
            "    Uninstalling PyYAML-3.13:\n",
            "      Successfully uninstalled PyYAML-3.13\n",
            "Successfully installed en-core-web-trf-3.3.0 huggingface-hub-0.5.1 pyyaml-6.0 sacremoses-0.0.49 spacy-alignments-0.8.5 spacy-transformers-1.1.5 tokenizers-0.12.1 transformers-4.17.0\n",
            "\u001b[38;5;2m✔ Download and installation successful\u001b[0m\n",
            "You can now load the package via spacy.load('en_core_web_trf')\n"
          ]
        }
      ],
      "source": [
        "!pip install -U spacy\n",
        "!python -m spacy download en_core_web_trf"
      ]
    },
    {
      "cell_type": "code",
      "source": [
        "import spacy\n",
        "print(spacy.__version__)"
      ],
      "metadata": {
        "colab": {
          "base_uri": "https://localhost:8080/"
        },
        "id": "tQSgmaygd7Sd",
        "outputId": "51fec033-12e8-4dbc-cbcf-513d2a028452"
      },
      "execution_count": 5,
      "outputs": [
        {
          "output_type": "stream",
          "name": "stdout",
          "text": [
            "3.3.0\n"
          ]
        }
      ]
    },
    {
      "cell_type": "code",
      "source": [
        "nlp = spacy.load('en_core_web_trf')\n",
        "nlp.pipeline"
      ],
      "metadata": {
        "id": "0mkRhoEseDil"
      },
      "execution_count": 26,
      "outputs": []
    },
    {
      "cell_type": "code",
      "source": [
        "doc = nlp(\"Bezo founded Amazon pvt ltd in 2009\")"
      ],
      "metadata": {
        "colab": {
          "base_uri": "https://localhost:8080/"
        },
        "id": "zCcqIWLweySu",
        "outputId": "1d7bd7f6-d014-4289-e823-5dd5314ea7c9"
      },
      "execution_count": 55,
      "outputs": [
        {
          "output_type": "stream",
          "name": "stderr",
          "text": [
            "/usr/local/lib/python3.7/dist-packages/torch/autocast_mode.py:162: UserWarning: User provided device_type of 'cuda', but CUDA is not available. Disabling\n",
            "  warnings.warn('User provided device_type of \\'cuda\\', but CUDA is not available. Disabling')\n"
          ]
        }
      ]
    },
    {
      "cell_type": "code",
      "source": [
        "doc._.trf_data.tensors[0].shape"
      ],
      "metadata": {
        "colab": {
          "base_uri": "https://localhost:8080/"
        },
        "id": "kSQnArCse3WS",
        "outputId": "1bf648c4-dc61-49e2-a207-3c509a4a9261"
      },
      "execution_count": 56,
      "outputs": [
        {
          "output_type": "execute_result",
          "data": {
            "text/plain": [
              "(1, 12, 768)"
            ]
          },
          "metadata": {},
          "execution_count": 56
        }
      ]
    },
    {
      "cell_type": "code",
      "source": [
        "doc._.trf_data.tensors[1].shape"
      ],
      "metadata": {
        "colab": {
          "base_uri": "https://localhost:8080/"
        },
        "id": "odXLMLXAe-47",
        "outputId": "0038f28c-b1ab-4080-f793-322ecc284d4c"
      },
      "execution_count": 57,
      "outputs": [
        {
          "output_type": "execute_result",
          "data": {
            "text/plain": [
              "(1, 768)"
            ]
          },
          "metadata": {},
          "execution_count": 57
        }
      ]
    },
    {
      "cell_type": "code",
      "source": [
        "doc._.trf_data.tensors[0] == doc._.trf_data.model_output.last_hidden_state"
      ],
      "metadata": {
        "colab": {
          "base_uri": "https://localhost:8080/"
        },
        "id": "LPQMEvBwtGE-",
        "outputId": "795f4754-ed38-4ef2-d47c-7616b88d6a3b"
      },
      "execution_count": 58,
      "outputs": [
        {
          "output_type": "execute_result",
          "data": {
            "text/plain": [
              "array([[[ True,  True,  True, ...,  True,  True,  True],\n",
              "        [ True,  True,  True, ...,  True,  True,  True],\n",
              "        [ True,  True,  True, ...,  True,  True,  True],\n",
              "        ...,\n",
              "        [ True,  True,  True, ...,  True,  True,  True],\n",
              "        [ True,  True,  True, ...,  True,  True,  True],\n",
              "        [ True,  True,  True, ...,  True,  True,  True]]])"
            ]
          },
          "metadata": {},
          "execution_count": 58
        }
      ]
    },
    {
      "cell_type": "code",
      "source": [
        "doc._.trf_data.model_output"
      ],
      "metadata": {
        "colab": {
          "base_uri": "https://localhost:8080/"
        },
        "id": "GI3kvPHIfpkx",
        "outputId": "759d859c-d4fa-479f-d394-0a7937329cb2"
      },
      "execution_count": 59,
      "outputs": [
        {
          "output_type": "execute_result",
          "data": {
            "text/plain": [
              "ModelOutput([('last_hidden_state',\n",
              "              array([[[-0.0365348 , -0.13812852, -0.44641435, ...,  0.38566554,\n",
              "                        0.47058213, -0.19017841],\n",
              "                      [-1.0806499 ,  0.08195525, -0.72941303, ..., -0.07870048,\n",
              "                       -0.15033649, -0.41068453],\n",
              "                      [-1.2925166 , -0.03132503, -0.83968246, ..., -0.21484107,\n",
              "                       -0.22204685, -0.43493304],\n",
              "                      ...,\n",
              "                      [-1.0424589 , -0.19533558,  0.31330138, ...,  1.0528128 ,\n",
              "                        0.35718998, -0.9280142 ],\n",
              "                      [-0.14838707,  0.13717265, -0.5481258 , ...,  0.83625144,\n",
              "                        0.90639794, -0.61290896],\n",
              "                      [ 0.01418503, -0.18497773, -0.89000154, ...,  0.47385228,\n",
              "                        0.62589085, -0.18141358]]], dtype=float32)),\n",
              "             ('pooler_output',\n",
              "              array([[ 0.39266053,  0.14250343, -0.2851043 , -0.17253502, -0.00665795,\n",
              "                      -0.13999543,  0.50509256,  0.15052615, -0.57631266, -0.38776305,\n",
              "                       0.3655517 , -0.21984759, -0.01057154,  0.45461878, -0.25320384,\n",
              "                       0.52211213,  0.09318516, -0.72688603,  0.137405  ,  0.22903983,\n",
              "                      -0.20728701, -0.02073977,  0.36684954,  0.17432268,  0.35489932,\n",
              "                       0.08823825, -0.10711607, -0.18414693,  0.6705923 ,  0.4510368 ,\n",
              "                       0.18987042, -0.24663356,  0.08856986,  0.4805686 , -0.51628727,\n",
              "                       0.3544023 , -0.06176859,  0.33152297,  0.607442  , -0.30954853,\n",
              "                      -0.4655537 , -0.24281807,  0.06706073, -0.28210258,  0.45605782,\n",
              "                       0.30115044,  0.18498026,  0.17855068, -0.05658519, -0.03149582,\n",
              "                      -0.22663581,  0.19415414,  0.32523614,  0.23417753, -0.15977347,\n",
              "                       0.3211066 ,  0.06759578,  0.08812944, -0.05035323,  0.1261627 ,\n",
              "                      -0.51299745, -0.25572926,  0.17833199, -0.12979493, -0.15011267,\n",
              "                      -0.24330208, -0.31339255, -0.13812844, -0.26894933, -0.06672098,\n",
              "                      -0.29144025, -0.1214897 ,  0.18436068, -0.31176254, -0.39514798,\n",
              "                       0.48078883, -0.36522052, -0.01321605, -0.16163811,  0.5547581 ,\n",
              "                      -0.53024095,  0.12395929,  0.47326213,  0.7274256 , -0.56631935,\n",
              "                      -0.47392765, -0.2673934 , -0.2222214 ,  0.00804361,  0.00704995,\n",
              "                      -0.26858184, -0.6580693 ,  0.30403572,  0.26828736, -0.42471337,\n",
              "                       0.3148044 ,  0.01448721, -0.11065523, -0.37309995, -0.41975594,\n",
              "                       0.02475143,  0.1943295 , -0.30346605, -0.04012433,  0.17584804,\n",
              "                       0.03746116,  0.5290878 ,  0.05914479, -0.41772377,  0.01592379,\n",
              "                      -0.31742364,  0.4457102 ,  0.3843543 , -0.2294473 ,  0.2264567 ,\n",
              "                      -0.08227837,  0.41831344, -0.45234275,  0.68378335, -0.7718529 ,\n",
              "                       0.02061703, -0.2200202 ,  0.61154884,  0.5134747 , -0.5184704 ,\n",
              "                       0.5817972 ,  0.35985762,  0.24659793,  0.18970498, -0.14918928,\n",
              "                      -0.10800512, -0.05185577,  0.23699576, -0.09928696,  0.5720572 ,\n",
              "                       0.42472517, -0.39605734, -0.24951382, -0.31613454,  0.40649253,\n",
              "                       0.34793186, -0.31621924, -0.1841932 ,  0.4007187 ,  0.2224476 ,\n",
              "                       0.20153776, -0.00399575, -0.48134708, -0.03541971,  0.5331762 ,\n",
              "                      -0.07502835,  0.19670776, -0.2612084 , -0.40228665, -0.60210294,\n",
              "                       0.12753429, -0.21481358, -0.30174443, -0.5244596 ,  0.12992789,\n",
              "                      -0.17802113, -0.18514743,  0.06913596, -0.604209  , -0.09513032,\n",
              "                      -0.28120953,  0.38101977,  0.09976406, -0.092101  , -0.24005099,\n",
              "                       0.15576307, -0.6890918 , -0.3358803 ,  0.18812308, -0.3096366 ,\n",
              "                       0.6484675 , -0.4752878 ,  0.39160582,  0.40799   , -0.14228113,\n",
              "                       0.19553564, -0.13334347,  0.36291128,  0.25746262,  0.2449616 ,\n",
              "                       0.5539047 , -0.43523294, -0.4094655 , -0.26271218, -0.38820073,\n",
              "                       0.20658362, -0.31233615,  0.31732485, -0.28402767, -0.22175948,\n",
              "                       0.30547896, -0.30197093,  0.44837558,  0.21342587, -0.77366656,\n",
              "                       0.07293879, -0.6161772 ,  0.33513236, -0.35210112,  0.34941345,\n",
              "                       0.13996714, -0.12675329,  0.03121898,  0.2808368 , -0.3996658 ,\n",
              "                       0.3950613 , -0.8029423 ,  0.26371795, -0.213823  , -0.48655742,\n",
              "                      -0.07188223, -0.07181471,  0.14740224, -0.52583057, -0.03321741,\n",
              "                       0.16306631,  0.43327338,  0.37469098, -0.5112381 ,  0.2525439 ,\n",
              "                      -0.4140983 , -0.43265963, -0.13329938, -0.2560635 ,  0.27579677,\n",
              "                       0.51690197, -0.38571188,  0.2783629 , -0.35311353, -0.678868  ,\n",
              "                       0.24339454, -0.3661596 ,  0.6241001 , -0.072234  , -0.33449823,\n",
              "                      -0.15323697,  0.05546246,  0.26673833,  0.26319844,  0.0321653 ,\n",
              "                      -0.15770085,  0.354631  , -0.03635825,  0.16947903, -0.5192157 ,\n",
              "                       0.2072697 , -0.37650365,  0.16332522, -0.22934484,  0.14691392,\n",
              "                       0.5691856 ,  0.04317643, -0.4795282 ,  0.58805835,  0.28795704,\n",
              "                       0.15476798,  0.22789213,  0.28875402,  0.10481587, -0.46575198,\n",
              "                       0.35238516, -0.23965336,  0.21280552, -0.4092843 ,  0.11430954,\n",
              "                       0.07777751, -0.5931558 , -0.1580546 ,  0.07382559, -0.05033996,\n",
              "                       0.29440016,  0.0336352 , -0.07863581,  0.22878106, -0.00371805,\n",
              "                      -0.1532293 , -0.5292243 ,  0.05262978, -0.4149112 ,  0.42041826,\n",
              "                      -0.61815304, -0.02383098,  0.11203329,  0.5035431 , -0.2141583 ,\n",
              "                      -0.0589044 , -0.30794728,  0.15316582, -0.5256255 ,  0.36850828,\n",
              "                       0.56577367,  0.3100384 ,  0.33475944,  0.06372287, -0.2927851 ,\n",
              "                      -0.4894754 ,  0.35221544,  0.3167856 , -0.00826056,  0.0052926 ,\n",
              "                      -0.4750276 , -0.3641466 ,  0.49385625,  0.0740204 ,  0.4509706 ,\n",
              "                       0.04499672,  0.62696964,  0.16954984, -0.79749304, -0.33275422,\n",
              "                      -0.56534165,  0.01879109, -0.19904076, -0.08252617, -0.16575393,\n",
              "                      -0.20374168,  0.517151  , -0.6538091 ,  0.26264936,  0.10371189,\n",
              "                       0.3201869 , -0.55555856,  0.56600773, -0.35605317,  0.29697958,\n",
              "                      -0.43132997,  0.1430805 , -0.5099823 ,  0.1197174 , -0.31118664,\n",
              "                      -0.2459695 , -0.20179516, -0.06473239,  0.42797446,  0.0510315 ,\n",
              "                      -0.6195331 ,  0.56391156, -0.04692258,  0.10126557, -0.23505966,\n",
              "                       0.5686427 , -0.12418868, -0.04595783,  0.41039371, -0.18754296,\n",
              "                      -0.09446101, -0.23777544, -0.57196206,  0.24634975, -0.2143452 ,\n",
              "                       0.0980259 ,  0.18936542,  0.10481076,  0.575657  , -0.43337584,\n",
              "                       0.0689738 , -0.3206765 , -0.0364252 ,  0.37645462,  0.05651819,\n",
              "                       0.28347307,  0.2346545 ,  0.1256284 ,  0.11679179, -0.32574815,\n",
              "                      -0.1315446 , -0.03351276, -0.5504051 ,  0.5547114 , -0.5532198 ,\n",
              "                      -0.50582296,  0.45457998,  0.36595052, -0.31739157,  0.11145064,\n",
              "                       0.0018768 , -0.08342239,  0.17267457,  0.36642078, -0.37083316,\n",
              "                       0.56623125,  0.2989653 , -0.50664824,  0.20775154,  0.6023358 ,\n",
              "                      -0.08695026, -0.4899374 , -0.31551862,  0.14641002,  0.28763902,\n",
              "                       0.34274122, -0.29483926,  0.2609635 ,  0.32421052,  0.411413  ,\n",
              "                       0.6292728 , -0.4296204 , -0.12285792, -0.37604827,  0.4671176 ,\n",
              "                      -0.3527969 , -0.22478706, -0.36033773,  0.15278342,  0.6469632 ,\n",
              "                      -0.18592387, -0.27166554, -0.19721763, -0.0525022 , -0.41698217,\n",
              "                      -0.89695495,  0.3877053 ,  0.39192155, -0.0939789 ,  0.0213211 ,\n",
              "                      -0.1837014 ,  0.17510654,  0.19012178,  0.7354094 , -0.46358657,\n",
              "                      -0.03021162,  0.30191442, -0.23461501,  0.16811879, -0.00301043,\n",
              "                      -0.40150198,  0.11566553, -0.27309778, -0.01990398, -0.3986473 ,\n",
              "                       0.6314733 , -0.35879055,  0.21529667,  0.20138068, -0.47419584,\n",
              "                       0.396919  , -0.07424656,  0.21470699,  0.19470197, -0.31943363,\n",
              "                       0.07756875, -0.43647483, -0.47738773, -0.4590523 ,  0.01921256,\n",
              "                       0.01201013,  0.06743881, -0.26844865, -0.43473586,  0.04657559,\n",
              "                      -0.39004183,  0.8325943 ,  0.00695149, -0.2196329 ,  0.40986797,\n",
              "                       0.4410198 , -0.37802958,  0.5011675 ,  0.46410158, -0.20012288,\n",
              "                       0.5774036 ,  0.24624276, -0.02488175,  0.23061301,  0.512678  ,\n",
              "                       0.27339733,  0.43784556, -0.09989824,  0.58678854, -0.69286966,\n",
              "                       0.14243214, -0.30866382, -0.38230634, -0.32991132,  0.41112077,\n",
              "                       0.5147919 , -0.18473908, -0.04160351, -0.33567798,  0.13955022,\n",
              "                       0.32010928, -0.59980905,  0.41186708,  0.18182637, -0.6396685 ,\n",
              "                       0.6968215 ,  0.23924492,  0.04574376, -0.41432005, -0.10141715,\n",
              "                       0.4271323 , -0.3617224 ,  0.2145868 , -0.22605124, -0.546981  ,\n",
              "                       0.50169957, -0.5517965 , -0.49237734,  0.18110578,  0.10807394,\n",
              "                      -0.06630124, -0.04578288,  0.6417953 ,  0.37506428, -0.5724233 ,\n",
              "                       0.6175503 ,  0.22263917,  0.24444059,  0.18968567,  0.28560305,\n",
              "                      -0.10291285,  0.07746917, -0.28163388, -0.06675734, -0.15841863,\n",
              "                      -0.29117242, -0.61170626,  0.48229486, -0.29578155, -0.28087628,\n",
              "                      -0.1622183 ,  0.1597654 , -0.71998394,  0.07434359, -0.13708463,\n",
              "                       0.38118213, -0.06394823, -0.15043305, -0.04342629, -0.02933234,\n",
              "                      -0.39473954, -0.55204755, -0.3215682 ,  0.40583554, -0.118118  ,\n",
              "                      -0.5754555 ,  0.19710009,  0.3752696 ,  0.33431196,  0.34597328,\n",
              "                       0.11474834, -0.13244137,  0.21125579, -0.09109898, -0.28176168,\n",
              "                       0.4178599 ,  0.21063945, -0.60015   , -0.21650955, -0.4176342 ,\n",
              "                      -0.07481145,  0.3111602 , -0.16859542,  0.47999632, -0.35480914,\n",
              "                       0.18429798,  0.13826355, -0.5729219 , -0.20942277,  0.02309981,\n",
              "                       0.4436901 , -0.17003758, -0.56445605,  0.26023784,  0.10550122,\n",
              "                      -0.18437423, -0.04241482,  0.47224805, -0.18302332,  0.49453205,\n",
              "                      -0.2345704 , -0.42672065,  0.20238642,  0.08856973,  0.18025176,\n",
              "                      -0.09544891, -0.15264942, -0.12121565,  0.40543133, -0.01323838,\n",
              "                       0.46400332,  0.14868395,  0.04904052,  0.211612  , -0.2518939 ,\n",
              "                      -0.35622117, -0.4289813 , -0.5891756 , -0.56232727, -0.08399651,\n",
              "                       0.23344676, -0.29211453, -0.11855565, -0.7298573 ,  0.60506743,\n",
              "                       0.18775919,  0.07870817, -0.45948476, -0.36268717, -0.22575028,\n",
              "                       0.39824545,  0.36876422, -0.02773545,  0.0415199 ,  0.09293145,\n",
              "                       0.11189931,  0.34523657, -0.5389839 , -0.67948   , -0.22881877,\n",
              "                      -0.25563872,  0.49427423, -0.38354614,  0.16837704, -0.117654  ,\n",
              "                      -0.3496413 , -0.29789835, -0.05651638,  0.54013145,  0.13206881,\n",
              "                       0.17323261,  0.1593976 ,  0.04465258, -0.30449957, -0.31077898,\n",
              "                      -0.12831144, -0.18980545,  0.00830007,  0.3809177 ,  0.06654528,\n",
              "                      -0.08764262,  0.43714485,  0.2643664 ,  0.10541572, -0.22349848,\n",
              "                       0.06221335, -0.4537803 , -0.22325912, -0.6608879 ,  0.16094959,\n",
              "                      -0.07726709,  0.23058078,  0.02300759, -0.30810893, -0.15689042,\n",
              "                       0.07551079,  0.14380772,  0.33566013, -0.19191504, -0.07317067,\n",
              "                      -0.52493143, -0.4658748 , -0.34231818,  0.10619115,  0.5650268 ,\n",
              "                      -0.5446313 , -0.6047098 , -0.21030937,  0.27496544, -0.24896841,\n",
              "                       0.20337525,  0.082183  , -0.00770534,  0.2619226 , -0.28544354,\n",
              "                      -0.09243055, -0.6890134 ,  0.08708495, -0.06297936, -0.0347572 ,\n",
              "                      -0.07177512, -0.19757415, -0.07666557,  0.10448384, -0.5232974 ,\n",
              "                      -0.14054047,  0.20016198, -0.17421085,  0.14612785, -0.03208985,\n",
              "                       0.22669488, -0.5422507 ,  0.09602512, -0.43823594,  0.38193128,\n",
              "                      -0.16520102,  0.0904756 ,  0.24699149,  0.04513132, -0.5171301 ,\n",
              "                      -0.26478687,  0.03046424,  0.06745294, -0.11072859, -0.38466957,\n",
              "                       0.15424961,  0.35202524,  0.21072105,  0.00283178,  0.16887845,\n",
              "                      -0.18863055, -0.2051783 , -0.07994105, -0.25161684,  0.21937838,\n",
              "                       0.1215639 ,  0.00838048,  0.01370182,  0.68049777,  0.29995865,\n",
              "                       0.42388245,  0.18862157, -0.18509772,  0.03422544,  0.55093074,\n",
              "                      -0.4481065 ,  0.39074984, -0.46975848, -0.01456624, -0.19567673,\n",
              "                       0.274895  ,  0.14809078, -0.11979241,  0.18843305,  0.16021295,\n",
              "                      -0.4064152 , -0.32493463, -0.06686091,  0.3504139 ,  0.3282275 ,\n",
              "                      -0.37641582, -0.5418571 , -0.61365193,  0.7089139 ,  0.18955934,\n",
              "                      -0.3667147 ,  0.3007313 , -0.3757176 , -0.45159516, -0.6160264 ,\n",
              "                      -0.66697615,  0.3540673 ,  0.4384856 , -0.20706014, -0.04399816,\n",
              "                       0.07115561,  0.61726475,  0.09387331,  0.10607253,  0.41692504,\n",
              "                       0.12636106, -0.10867064, -0.16636238,  0.5067836 ,  0.43571976,\n",
              "                      -0.21361303,  0.14721878, -0.02108206, -0.4986619 , -0.5598367 ,\n",
              "                      -0.35310712,  0.17970453, -0.10073367]], dtype=float32))])"
            ]
          },
          "metadata": {},
          "execution_count": 59
        }
      ]
    },
    {
      "cell_type": "code",
      "source": [
        "doc._.trf_data.model_output.last_hidden_state.shape"
      ],
      "metadata": {
        "colab": {
          "base_uri": "https://localhost:8080/"
        },
        "id": "WGGr42MKfCM-",
        "outputId": "c701ff35-739f-4690-9958-c32d37bca0ae"
      },
      "execution_count": 60,
      "outputs": [
        {
          "output_type": "execute_result",
          "data": {
            "text/plain": [
              "(1, 12, 768)"
            ]
          },
          "metadata": {},
          "execution_count": 60
        }
      ]
    },
    {
      "cell_type": "code",
      "source": [
        "doc._.trf_data.model_output.last_hidden_state"
      ],
      "metadata": {
        "colab": {
          "base_uri": "https://localhost:8080/"
        },
        "id": "R6uZ-2Euf6Sd",
        "outputId": "4d7e850f-f9b2-40f5-e0a5-237ac57e514e"
      },
      "execution_count": 61,
      "outputs": [
        {
          "output_type": "execute_result",
          "data": {
            "text/plain": [
              "array([[[-0.0365348 , -0.13812852, -0.44641435, ...,  0.38566554,\n",
              "          0.47058213, -0.19017841],\n",
              "        [-1.0806499 ,  0.08195525, -0.72941303, ..., -0.07870048,\n",
              "         -0.15033649, -0.41068453],\n",
              "        [-1.2925166 , -0.03132503, -0.83968246, ..., -0.21484107,\n",
              "         -0.22204685, -0.43493304],\n",
              "        ...,\n",
              "        [-1.0424589 , -0.19533558,  0.31330138, ...,  1.0528128 ,\n",
              "          0.35718998, -0.9280142 ],\n",
              "        [-0.14838707,  0.13717265, -0.5481258 , ...,  0.83625144,\n",
              "          0.90639794, -0.61290896],\n",
              "        [ 0.01418503, -0.18497773, -0.89000154, ...,  0.47385228,\n",
              "          0.62589085, -0.18141358]]], dtype=float32)"
            ]
          },
          "metadata": {},
          "execution_count": 61
        }
      ]
    },
    {
      "cell_type": "code",
      "source": [
        "TRAIN_DATA = [\n",
        "    (\"text1\", {\"cats\": {\"POSITIVE\": 1.0, \"NEGATIVE\": 0.0}})\n",
        "]"
      ],
      "metadata": {
        "id": "senYba7tsZ1L"
      },
      "execution_count": 62,
      "outputs": []
    },
    {
      "cell_type": "code",
      "source": [
        "for ent in doc.ents:\n",
        "  print(ent, ent.label_)"
      ],
      "metadata": {
        "colab": {
          "base_uri": "https://localhost:8080/"
        },
        "id": "Aj38Ye9suRhW",
        "outputId": "e58b5d55-6c05-4689-cd66-e69f2c73932b"
      },
      "execution_count": 63,
      "outputs": [
        {
          "output_type": "stream",
          "name": "stdout",
          "text": [
            "Bezo PERSON\n",
            "Amazon pvt ltd ORG\n",
            "2009 DATE\n"
          ]
        }
      ]
    },
    {
      "cell_type": "code",
      "source": [
        "s = '''\n",
        "MS B-DIPLOMA\n",
        "in O\n",
        "electrical B-DIPLOMA_MAJOR\n",
        "engineering I-DIPLOMA_MAJOR\n",
        "or O\n",
        "computer B-DIPLOMA_MAJOR\n",
        "engineering I-DIPLOMA_MAJOR\n",
        ". O\n",
        "5+ B-EXPERIENCE\n",
        "years I-EXPERIENCE\n",
        "of I-EXPERIENCE\n",
        "industry I-EXPERIENCE\n",
        "experience I-EXPERIENCE\n",
        ". I-EXPERIENCE\n",
        "Familiar O\n",
        "with O\n",
        "storage B-SKILLS\n",
        "server I-SKILLS\n",
        "architectures I-SKILLS\n",
        "with O\n",
        "HDD B-SKILLS\n",
        "'''\n",
        "with open('dev.tsv', 'w+') as f:\n",
        "  f.write(s)"
      ],
      "metadata": {
        "id": "COCj5-e_uZsF"
      },
      "execution_count": 78,
      "outputs": []
    },
    {
      "cell_type": "code",
      "source": [
        "ls"
      ],
      "metadata": {
        "colab": {
          "base_uri": "https://localhost:8080/"
        },
        "id": "N7F0ZqWpvNoU",
        "outputId": "55df0fc4-73bc-454e-a42a-f14cabf3490d"
      },
      "execution_count": 79,
      "outputs": [
        {
          "output_type": "stream",
          "name": "stdout",
          "text": [
            "config.cfg  dev.tsv  \u001b[0m\u001b[01;34msample_data\u001b[0m/  train.json  train.tsv\n"
          ]
        }
      ]
    },
    {
      "cell_type": "code",
      "source": [
        "cat dev.tsv"
      ],
      "metadata": {
        "colab": {
          "base_uri": "https://localhost:8080/"
        },
        "id": "Zh6t7eIvvPEd",
        "outputId": "3d166751-ee13-4000-896a-7b028b29df6a"
      },
      "execution_count": 80,
      "outputs": [
        {
          "output_type": "stream",
          "name": "stdout",
          "text": [
            "\n",
            "MS B-DIPLOMA\n",
            "in O\n",
            "electrical B-DIPLOMA_MAJOR\n",
            "engineering I-DIPLOMA_MAJOR\n",
            "or O\n",
            "computer B-DIPLOMA_MAJOR\n",
            "engineering I-DIPLOMA_MAJOR\n",
            ". O\n",
            "5+ B-EXPERIENCE\n",
            "years I-EXPERIENCE\n",
            "of I-EXPERIENCE\n",
            "industry I-EXPERIENCE\n",
            "experience I-EXPERIENCE\n",
            ". I-EXPERIENCE\n",
            "Familiar O\n",
            "with O\n",
            "storage B-SKILLS\n",
            "server I-SKILLS\n",
            "architectures I-SKILLS\n",
            "with O\n",
            "HDD B-SKILLS\n"
          ]
        }
      ]
    },
    {
      "cell_type": "code",
      "source": [
        "!python -m spacy convert dev.tsv ./ -t json -n 1 -c iob"
      ],
      "metadata": {
        "colab": {
          "base_uri": "https://localhost:8080/"
        },
        "id": "qRDwCG2GvPR7",
        "outputId": "60e98e7a-2b12-4f8b-af74-decf542a1e70"
      },
      "execution_count": 81,
      "outputs": [
        {
          "output_type": "stream",
          "name": "stdout",
          "text": [
            "\u001b[38;5;4mℹ Auto-detected token-per-line NER format\u001b[0m\n",
            "\u001b[38;5;3m⚠ No sentence boundaries found to use with option `-n 1`. Use `-s` to\n",
            "automatically segment sentences or `-n 0` to disable.\u001b[0m\n",
            "\u001b[38;5;3m⚠ No sentence boundaries found. Use `-s` to automatically segment\n",
            "sentences.\u001b[0m\n",
            "\u001b[38;5;3m⚠ No document delimiters found. Use `-n` to automatically group\n",
            "sentences into documents.\u001b[0m\n",
            "\u001b[38;5;2m✔ Generated output file (1 documents): dev.json\u001b[0m\n"
          ]
        }
      ]
    },
    {
      "cell_type": "code",
      "source": [
        "cat train.json"
      ],
      "metadata": {
        "colab": {
          "base_uri": "https://localhost:8080/"
        },
        "id": "3NC9ir50vi0b",
        "outputId": "651f7bdf-cbe4-453d-84a5-84fd4464deb3"
      },
      "execution_count": 70,
      "outputs": [
        {
          "output_type": "stream",
          "name": "stdout",
          "text": [
            "[\n",
            "  {\n",
            "    \"id\":0,\n",
            "    \"paragraphs\":[\n",
            "      {\n",
            "        \"sentences\":[\n",
            "          {\n",
            "            \"tokens\":[\n",
            "              {\n",
            "                \"orth\":\"MS\",\n",
            "                \"tag\":\"-\",\n",
            "                \"ner\":\"U-DIPLOMA\"\n",
            "              },\n",
            "              {\n",
            "                \"orth\":\"in\",\n",
            "                \"tag\":\"-\",\n",
            "                \"ner\":\"O\"\n",
            "              },\n",
            "              {\n",
            "                \"orth\":\"electrical\",\n",
            "                \"tag\":\"-\",\n",
            "                \"ner\":\"B-DIPLOMA_MAJOR\"\n",
            "              },\n",
            "              {\n",
            "                \"orth\":\"engineering\",\n",
            "                \"tag\":\"-\",\n",
            "                \"ner\":\"L-DIPLOMA_MAJOR\"\n",
            "              },\n",
            "              {\n",
            "                \"orth\":\"or\",\n",
            "                \"tag\":\"-\",\n",
            "                \"ner\":\"O\"\n",
            "              },\n",
            "              {\n",
            "                \"orth\":\"computer\",\n",
            "                \"tag\":\"-\",\n",
            "                \"ner\":\"B-DIPLOMA_MAJOR\"\n",
            "              },\n",
            "              {\n",
            "                \"orth\":\"engineering\",\n",
            "                \"tag\":\"-\",\n",
            "                \"ner\":\"L-DIPLOMA_MAJOR\"\n",
            "              },\n",
            "              {\n",
            "                \"orth\":\".\",\n",
            "                \"tag\":\"-\",\n",
            "                \"ner\":\"O\"\n",
            "              },\n",
            "              {\n",
            "                \"orth\":\"5+\",\n",
            "                \"tag\":\"-\",\n",
            "                \"ner\":\"B-EXPERIENCE\"\n",
            "              },\n",
            "              {\n",
            "                \"orth\":\"years\",\n",
            "                \"tag\":\"-\",\n",
            "                \"ner\":\"I-EXPERIENCE\"\n",
            "              },\n",
            "              {\n",
            "                \"orth\":\"of\",\n",
            "                \"tag\":\"-\",\n",
            "                \"ner\":\"I-EXPERIENCE\"\n",
            "              },\n",
            "              {\n",
            "                \"orth\":\"industry\",\n",
            "                \"tag\":\"-\",\n",
            "                \"ner\":\"I-EXPERIENCE\"\n",
            "              },\n",
            "              {\n",
            "                \"orth\":\"experience\",\n",
            "                \"tag\":\"-\",\n",
            "                \"ner\":\"I-EXPERIENCE\"\n",
            "              },\n",
            "              {\n",
            "                \"orth\":\".\",\n",
            "                \"tag\":\"-\",\n",
            "                \"ner\":\"L-EXPERIENCE\"\n",
            "              },\n",
            "              {\n",
            "                \"orth\":\"Familiar\",\n",
            "                \"tag\":\"-\",\n",
            "                \"ner\":\"O\"\n",
            "              },\n",
            "              {\n",
            "                \"orth\":\"with\",\n",
            "                \"tag\":\"-\",\n",
            "                \"ner\":\"O\"\n",
            "              },\n",
            "              {\n",
            "                \"orth\":\"storage\",\n",
            "                \"tag\":\"-\",\n",
            "                \"ner\":\"B-SKILLS\"\n",
            "              },\n",
            "              {\n",
            "                \"orth\":\"server\",\n",
            "                \"tag\":\"-\",\n",
            "                \"ner\":\"I-SKILLS\"\n",
            "              },\n",
            "              {\n",
            "                \"orth\":\"architectures\",\n",
            "                \"tag\":\"-\",\n",
            "                \"ner\":\"L-SKILLS\"\n",
            "              },\n",
            "              {\n",
            "                \"orth\":\"with\",\n",
            "                \"tag\":\"-\",\n",
            "                \"ner\":\"O\"\n",
            "              },\n",
            "              {\n",
            "                \"orth\":\"HDD\",\n",
            "                \"tag\":\"-\",\n",
            "                \"ner\":\"U-SKILLS\"\n",
            "              }\n",
            "            ]\n",
            "          }\n",
            "        ]\n",
            "      }\n",
            "    ]\n",
            "  }\n",
            "]"
          ]
        }
      ]
    },
    {
      "cell_type": "code",
      "source": [
        "!python -m spacy convert train.json ./ -t spacy"
      ],
      "metadata": {
        "colab": {
          "base_uri": "https://localhost:8080/"
        },
        "id": "HLRPjvdttg_H",
        "outputId": "79d1f4f8-5199-4d9d-f872-ef47a4582e61"
      },
      "execution_count": 82,
      "outputs": [
        {
          "output_type": "stream",
          "name": "stdout",
          "text": [
            "\n",
            "\u001b[38;5;1m✘ Unknown file type: 'spacy'\u001b[0m\n",
            "Supported file types: 'json, jsonl, msg'\n",
            "\n"
          ]
        }
      ]
    },
    {
      "cell_type": "code",
      "source": [
        "s ='''\n",
        "# This is an auto-generated partial config. To use it with 'spacy train'\n",
        "# you can run spacy init fill-config to auto-fill all default settings:\n",
        "# python -m spacy init fill-config ./base_config.cfg ./config.cfg\n",
        "[paths]\n",
        "train = \"train.json\"\n",
        "dev = \"dev.json\"\n",
        "vectors = null\n",
        "[system]\n",
        "gpu_allocator = \"pytorch\"\n",
        "\n",
        "[nlp]\n",
        "lang = \"en\"\n",
        "pipeline = [\"transformer\",\"tagger\"]\n",
        "batch_size = 128\n",
        "\n",
        "[components]\n",
        "\n",
        "[components.transformer]\n",
        "factory = \"transformer\"\n",
        "\n",
        "[components.transformer.model]\n",
        "@architectures = \"spacy-transformers.TransformerModel.v3\"\n",
        "name = \"roberta-base\"\n",
        "tokenizer_config = {\"use_fast\": true}\n",
        "\n",
        "[components.transformer.model.get_spans]\n",
        "@span_getters = \"spacy-transformers.strided_spans.v1\"\n",
        "window = 128\n",
        "stride = 96\n",
        "\n",
        "[components.tagger]\n",
        "factory = \"tagger\"\n",
        "\n",
        "[components.tagger.model]\n",
        "@architectures = \"spacy.Tagger.v2\"\n",
        "nO = null\n",
        "\n",
        "[components.tagger.model.tok2vec]\n",
        "@architectures = \"spacy-transformers.TransformerListener.v1\"\n",
        "grad_factor = 1.0\n",
        "\n",
        "[components.tagger.model.tok2vec.pooling]\n",
        "@layers = \"reduce_mean.v1\"\n",
        "\n",
        "[corpora]\n",
        "\n",
        "[corpora.train]\n",
        "@readers = \"spacy.Corpus.v1\"\n",
        "path = ${paths.train}\n",
        "max_length = 0\n",
        "\n",
        "[corpora.dev]\n",
        "@readers = \"spacy.Corpus.v1\"\n",
        "path = ${paths.dev}\n",
        "max_length = 0\n",
        "\n",
        "[training]\n",
        "accumulate_gradient = 3\n",
        "dev_corpus = \"corpora.dev\"\n",
        "train_corpus = \"corpora.train\"\n",
        "\n",
        "[training.optimizer]\n",
        "@optimizers = \"Adam.v1\"\n",
        "\n",
        "[training.optimizer.learn_rate]\n",
        "@schedules = \"warmup_linear.v1\"\n",
        "warmup_steps = 250\n",
        "total_steps = 20000\n",
        "initial_rate = 5e-5\n",
        "\n",
        "[training.batcher]\n",
        "@batchers = \"spacy.batch_by_padded.v1\"\n",
        "discard_oversize = true\n",
        "size = 2000\n",
        "buffer = 256\n",
        "\n",
        "[initialize]\n",
        "vectors = ${paths.vectors}\n",
        "'''\n",
        "\n",
        "with open('base_config.cfg', 'w+') as f:\n",
        "  f.write(s)"
      ],
      "metadata": {
        "id": "OKTWCnLkvpCa"
      },
      "execution_count": 104,
      "outputs": []
    },
    {
      "cell_type": "code",
      "source": [
        "ls"
      ],
      "metadata": {
        "colab": {
          "base_uri": "https://localhost:8080/"
        },
        "id": "fAVvHNKPvpFq",
        "outputId": "a3ddf0f2-ce16-4003-dc8c-e26edae90483"
      },
      "execution_count": 96,
      "outputs": [
        {
          "output_type": "stream",
          "name": "stdout",
          "text": [
            "config.cfg  dev.json  dev.tsv  \u001b[0m\u001b[01;34msample_data\u001b[0m/  train.json  train.tsv\n"
          ]
        }
      ]
    },
    {
      "cell_type": "code",
      "source": [
        "!python -m spacy init-model fill-config base_config.cfg"
      ],
      "metadata": {
        "colab": {
          "base_uri": "https://localhost:8080/"
        },
        "id": "D4I5QRqOvpJA",
        "outputId": "5481ba1b-7a0c-4681-c0d6-4b72c2ce135d"
      },
      "execution_count": 107,
      "outputs": [
        {
          "output_type": "stream",
          "name": "stdout",
          "text": [
            "\n",
            "Traceback (most recent call last):\n",
            "  File \"/usr/local/lib/python3.7/dist-packages/spacy/util.py\", line 78, in get_lang_class\n",
            "    module = importlib.import_module(\".lang.%s\" % lang, \"spacy\")\n",
            "  File \"/usr/lib/python3.7/importlib/__init__.py\", line 127, in import_module\n",
            "    return _bootstrap._gcd_import(name[level:], package, level)\n",
            "  File \"<frozen importlib._bootstrap>\", line 1006, in _gcd_import\n",
            "  File \"<frozen importlib._bootstrap>\", line 983, in _find_and_load\n",
            "  File \"<frozen importlib._bootstrap>\", line 965, in _find_and_load_unlocked\n",
            "ModuleNotFoundError: No module named 'spacy.lang.fill-config'\n",
            "\n",
            "During handling of the above exception, another exception occurred:\n",
            "\n",
            "Traceback (most recent call last):\n",
            "  File \"/usr/lib/python3.7/runpy.py\", line 193, in _run_module_as_main\n",
            "    \"__main__\", mod_spec)\n",
            "  File \"/usr/lib/python3.7/runpy.py\", line 85, in _run_code\n",
            "    exec(code, run_globals)\n",
            "  File \"/usr/local/lib/python3.7/dist-packages/spacy/__main__.py\", line 33, in <module>\n",
            "    plac.call(commands[command], sys.argv[1:])\n",
            "  File \"/usr/local/lib/python3.7/dist-packages/plac_core.py\", line 367, in call\n",
            "    cmd, result = parser.consume(arglist)\n",
            "  File \"/usr/local/lib/python3.7/dist-packages/plac_core.py\", line 232, in consume\n",
            "    return cmd, self.func(*(args + varargs + extraopts), **kwargs)\n",
            "  File \"/usr/local/lib/python3.7/dist-packages/spacy/cli/init_model.py\", line 101, in init_model\n",
            "    nlp = create_model(lang, lex_attrs, name=model_name, base_model=base_model)\n",
            "  File \"/usr/local/lib/python3.7/dist-packages/spacy/cli/init_model.py\", line 178, in create_model\n",
            "    lang_class = get_lang_class(lang)\n",
            "  File \"/usr/local/lib/python3.7/dist-packages/spacy/util.py\", line 80, in get_lang_class\n",
            "    raise ImportError(Errors.E048.format(lang=lang, err=err))\n",
            "ImportError: [E048] Can't import language fill-config from spacy.lang: No module named 'spacy.lang.fill-config'\n"
          ]
        }
      ]
    },
    {
      "cell_type": "code",
      "source": [
        "spacy.__version__"
      ],
      "metadata": {
        "colab": {
          "base_uri": "https://localhost:8080/",
          "height": 35
        },
        "id": "qtsJDN-svpMX",
        "outputId": "0279628e-df30-490e-c1ee-a8bd013d5e38"
      },
      "execution_count": 102,
      "outputs": [
        {
          "output_type": "execute_result",
          "data": {
            "text/plain": [
              "'3.3.0'"
            ],
            "application/vnd.google.colaboratory.intrinsic+json": {
              "type": "string"
            }
          },
          "metadata": {},
          "execution_count": 102
        }
      ]
    },
    {
      "cell_type": "code",
      "source": [
        ""
      ],
      "metadata": {
        "id": "S2zX9uOhtjji"
      },
      "execution_count": null,
      "outputs": []
    }
  ]
}