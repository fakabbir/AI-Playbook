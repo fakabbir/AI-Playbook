{
 "cells": [
  {
   "cell_type": "code",
   "execution_count": 3,
   "metadata": {},
   "outputs": [],
   "source": [
    "input_file = 'data/data_singlevar_regr.txt'"
   ]
  },
  {
   "cell_type": "code",
   "execution_count": 5,
   "metadata": {},
   "outputs": [
    {
     "name": "stdout",
     "output_type": "stream",
     "text": [
      "-0.86,4.38\n",
      "\n"
     ]
    }
   ],
   "source": [
    "with open(input_file) as f:\n",
    "    data = f.readline()\n",
    "    print(data)"
   ]
  },
  {
   "cell_type": "code",
   "execution_count": 6,
   "metadata": {},
   "outputs": [],
   "source": [
    "import numpy as np\n",
    "data = np.loadtxt(input_file,delimiter=',')"
   ]
  },
  {
   "cell_type": "code",
   "execution_count": 7,
   "metadata": {},
   "outputs": [],
   "source": [
    "X,y = data[:,:-1],data[:,-1]"
   ]
  },
  {
   "cell_type": "code",
   "execution_count": 10,
   "metadata": {},
   "outputs": [],
   "source": [
    "from sklearn import linear_model"
   ]
  },
  {
   "cell_type": "code",
   "execution_count": 11,
   "metadata": {},
   "outputs": [],
   "source": [
    "model = linear_model.LinearRegression()"
   ]
  },
  {
   "cell_type": "code",
   "execution_count": 12,
   "metadata": {},
   "outputs": [
    {
     "data": {
      "text/plain": [
       "LinearRegression(copy_X=True, fit_intercept=True, n_jobs=1, normalize=False)"
      ]
     },
     "execution_count": 12,
     "metadata": {},
     "output_type": "execute_result"
    }
   ],
   "source": [
    "model.fit(X,y)"
   ]
  },
  {
   "cell_type": "code",
   "execution_count": 18,
   "metadata": {},
   "outputs": [],
   "source": [
    "y_pred = model.predict(X)"
   ]
  },
  {
   "cell_type": "code",
   "execution_count": 26,
   "metadata": {},
   "outputs": [
    {
     "data": {
      "text/plain": [
       "array([ 3.44237533,  5.73029382,  6.78779103,  5.74359567,  7.42627991,\n",
       "        6.162604  ,  3.84143088,  5.85001049,  4.32694847,  1.42049388,\n",
       "        4.19392995,  5.9298216 ,  3.65520496,  1.09459851,  3.26945126,\n",
       "        5.40439846,  0.17011982,  5.19156883, -1.24652738,  7.24670491,\n",
       "        2.57110405,  4.93218272,  4.37350495,  6.08944382,  2.5578022 ,\n",
       "        3.7948744 ,  3.20959293,  1.00813648,  3.70841237,  3.26280034,\n",
       "        7.08043177,  4.22053366,  4.1806281 ,  2.23855776,  0.91502352,\n",
       "        3.88133644,  3.66850681,  4.83906976,  2.33167072,  3.78822348,\n",
       "        7.83198639,  3.78822348,  4.67279661,  7.3464688 ,  2.43143461,\n",
       "        3.64190311,  3.34261145,  4.32694847,  7.21345028,  5.5972753 ,\n",
       "        1.80624758,  1.44709758,  3.07657441,  8.03151416,  6.79444196,\n",
       "        3.49558274,  2.55115127,  4.51982532,  5.35784197,  4.29369384])"
      ]
     },
     "execution_count": 26,
     "metadata": {},
     "output_type": "execute_result"
    }
   ],
   "source": [
    "y_pred"
   ]
  },
  {
   "cell_type": "code",
   "execution_count": 27,
   "metadata": {},
   "outputs": [
    {
     "data": {
      "text/plain": [
       "array([ 4.38,  6.97,  7.01,  5.44,  6.45,  5.49,  4.25,  5.94,  4.8 ,\n",
       "        2.7 ,  3.26,  6.48,  4.08,  0.09,  2.74,  5.8 ,  0.16,  4.97,\n",
       "       -2.26,  5.75,  3.33,  5.26,  4.43,  6.6 ,  3.77,  2.4 ,  2.98,\n",
       "        0.29,  2.47,  4.08,  8.97,  3.94,  3.46,  2.46,  1.14,  4.31,\n",
       "        1.97,  4.83,  3.12,  4.97,  8.65,  3.59,  3.66,  7.54,  1.52,\n",
       "        4.55,  3.23,  4.39,  7.04,  4.46,  2.41,  1.11,  3.23,  7.46,\n",
       "        5.71,  3.59,  2.93,  4.16,  6.43,  4.92])"
      ]
     },
     "execution_count": 27,
     "metadata": {},
     "output_type": "execute_result"
    }
   ],
   "source": [
    "y"
   ]
  },
  {
   "cell_type": "code",
   "execution_count": 25,
   "metadata": {},
   "outputs": [
    {
     "data": {
      "text/plain": [
       "array([-0.93762467, -1.23970618, -0.22220897,  0.30359567,  0.97627991,\n",
       "        0.672604  , -0.40856912, -0.08998951, -0.47305153, -1.27950612,\n",
       "        0.93392995, -0.5501784 , -0.42479504,  1.00459851,  0.52945126,\n",
       "       -0.39560154,  0.01011982,  0.22156883,  1.01347262,  1.49670491,\n",
       "       -0.75889595, -0.32781728, -0.05649505, -0.51055618, -1.2121978 ,\n",
       "        1.3948744 ,  0.22959293,  0.71813648,  1.23841237, -0.81719966,\n",
       "       -1.88956823,  0.28053366,  0.7206281 , -0.22144224, -0.22497648,\n",
       "       -0.42866356,  1.69850681,  0.00906976, -0.78832928, -1.18177652,\n",
       "       -0.81801361,  0.19822348,  1.01279661, -0.1935312 ,  0.91143461,\n",
       "       -0.90809689,  0.11261145, -0.06305153,  0.17345028,  1.1372753 ,\n",
       "       -0.60375242,  0.33709758, -0.15342559,  0.57151416,  1.08444196,\n",
       "       -0.09441726, -0.37884873,  0.35982532, -1.07215803, -0.62630616])"
      ]
     },
     "execution_count": 25,
     "metadata": {},
     "output_type": "execute_result"
    }
   ],
   "source": [
    "y_pred -y"
   ]
  },
  {
   "cell_type": "code",
   "execution_count": 28,
   "metadata": {},
   "outputs": [],
   "source": [
    "from Visual_Library import visualize_classifier"
   ]
  },
  {
   "cell_type": "code",
   "execution_count": 31,
   "metadata": {},
   "outputs": [],
   "source": [
    "import matplotlib.pyplot as plt"
   ]
  },
  {
   "cell_type": "code",
   "execution_count": 34,
   "metadata": {},
   "outputs": [
    {
     "data": {
      "text/plain": [
       "[<matplotlib.lines.Line2D at 0x1f88b9fed30>]"
      ]
     },
     "execution_count": 34,
     "metadata": {},
     "output_type": "execute_result"
    },
    {
     "data": {
      "image/png": "[encoded data removed]",
      "text/plain": [
       "<Figure size 432x288 with 1 Axes>"
      ]
     },
     "metadata": {},
     "output_type": "display_data"
    }
   ],
   "source": [
    "plt.plot(X,y,'.')\n",
    "plt.plot(X,y_pred,'-')"
   ]
  },
  {
   "cell_type": "code",
   "execution_count": 42,
   "metadata": {},
   "outputs": [
    {
     "name": "stdout",
     "output_type": "stream",
     "text": [
      "Slope: 0.6650925836782707 and Intercept: 4.014354955713883\n"
     ]
    }
   ],
   "source": [
    "print(\"Slope: {} and Intercept: {}\".format(model.coef_[0],model.intercept_))"
   ]
  },
  {
   "cell_type": "code",
   "execution_count": null,
   "metadata": {},
   "outputs": [],
   "source": []
  }
 ],
 "metadata": {
  "kernelspec": {
   "display_name": "Python 3",
   "language": "python",
   "name": "python3"
  },
  "language_info": {
   "codemirror_mode": {
    "name": "ipython",
    "version": 3
   },
   "file_extension": ".py",
   "mimetype": "text/x-python",
   "name": "python",
   "nbconvert_exporter": "python",
   "pygments_lexer": "ipython3",
   "version": "3.6.5"
  }
 },
 "nbformat": 4,
 "nbformat_minor": 2
}
